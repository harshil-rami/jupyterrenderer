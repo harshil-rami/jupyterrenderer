{
 "cells": [
  {
   "cell_type": "code",
   "execution_count": 2,
   "metadata": {},
   "outputs": [
    {
     "data": {
      "text/plain": [
       "'roO5VGxOw2s'"
      ]
     },
     "execution_count": 2,
     "metadata": {},
     "output_type": "execute_result"
    }
   ],
   "source": [
    "URL1 = \"https://www.youtube.com/watch?v=roO5VGxOw2s\"\n",
    "URL1.split(\"=\")[-1]"
   ]
  },
  {
   "cell_type": "code",
   "execution_count": 4,
   "metadata": {},
   "outputs": [
    {
     "data": {
      "text/plain": [
       "'roO5VGxOw2s'"
      ]
     },
     "execution_count": 4,
     "metadata": {},
     "output_type": "execute_result"
    }
   ],
   "source": [
    "URL2 = \"https://www.youtube.com/roO5VGxOw2s\"\n",
    "URL2.split(\"/\")[-1]"
   ]
  },
  {
   "cell_type": "markdown",
   "metadata": {},
   "source": [
    "<iframe width=\"560\" height=\"315\" src=\"https://www.youtube.com/embed/1-68pFs_HIE?start=120\" title=\"YouTube video player\" frameborder=\"0\" allow=\"accelerometer; autoplay; clipboard-write; encrypted-media; gyroscope; picture-in-picture; web-share\" allowfullscreen></iframe>"
   ]
  },
  {
   "cell_type": "markdown",
   "metadata": {},
   "source": [
    "https://youtu.be/1-68pFs_HIE"
   ]
  },
  {
   "cell_type": "code",
   "execution_count": 5,
   "metadata": {},
   "outputs": [
    {
     "data": {
      "text/plain": [
       "['https://youtu.be/1-68pFs_HIE?t', '120']"
      ]
     },
     "execution_count": 5,
     "metadata": {},
     "output_type": "execute_result"
    }
   ],
   "source": [
    "URL3 = \"https://youtu.be/1-68pFs_HIE?t=120\"\n",
    "URL3.split(\"=\")"
   ]
  },
  {
   "cell_type": "code",
   "execution_count": 9,
   "metadata": {},
   "outputs": [
    {
     "data": {
      "text/plain": [
       "'1-68pFs_HIE'"
      ]
     },
     "execution_count": 9,
     "metadata": {},
     "output_type": "execute_result"
    }
   ],
   "source": [
    "URL3.split(\"=\")[0].split(\"/\")[-1].split(\"?\")[-2]"
   ]
  },
  {
   "cell_type": "code",
   "execution_count": 9,
   "metadata": {},
   "outputs": [],
   "source": [
    "import sys\n",
    "sys.path.append('./src/jupyterrendere')"
   ]
  },
  {
   "cell_type": "code",
   "execution_count": 10,
   "metadata": {},
   "outputs": [
    {
     "ename": "ModuleNotFoundError",
     "evalue": "No module named 'jupyterrendere.custom_exception'",
     "output_type": "error",
     "traceback": [
      "\u001b[1;31m---------------------------------------------------------------------------\u001b[0m",
      "\u001b[1;31mModuleNotFoundError\u001b[0m                       Traceback (most recent call last)",
      "Cell \u001b[1;32mIn[10], line 1\u001b[0m\n\u001b[1;32m----> 1\u001b[0m \u001b[39mfrom\u001b[39;00m \u001b[39mjupyterrendere\u001b[39;00m\u001b[39m.\u001b[39;00m\u001b[39mcustom_exception\u001b[39;00m \u001b[39mimport\u001b[39;00m InvalidURLException\n\u001b[0;32m      2\u001b[0m \u001b[39mfrom\u001b[39;00m \u001b[39mjupyterrendere\u001b[39;00m\u001b[39m.\u001b[39;00m\u001b[39mlogger\u001b[39;00m \u001b[39mimport\u001b[39;00m logger\n\u001b[0;32m      5\u001b[0m \u001b[39mdef\u001b[39;00m \u001b[39mget_time_info\u001b[39m(URL: \u001b[39mstr\u001b[39m) \u001b[39m-\u001b[39m\u001b[39m>\u001b[39m \u001b[39mint\u001b[39m:\n",
      "\u001b[1;31mModuleNotFoundError\u001b[0m: No module named 'jupyterrendere.custom_exception'"
     ]
    }
   ],
   "source": [
    "from jupyterrendere.custom_exception import InvalidURLException\n",
    "from jupyterrendere.logger import logger\n",
    "\n",
    "\n",
    "def get_time_info(URL: str) -> int:\n",
    "    \n",
    "    def _verify_vid_id_len(vid_id, __expected_len=11):\n",
    "        len_of_vid_id = len(vid_id)\n",
    "        if len_of_vid_id != __expected_len:\n",
    "            raise InvalidURLException(\n",
    "                f\"Invalid video id with length: {len_of_vid_id}, expected: {__expected_len}\"\n",
    "            )\n",
    "\n",
    "    try:\n",
    "        split_val = URL.split(\"=\")\n",
    "        if len(split_val) > 3:\n",
    "            raise InvalidURLException\n",
    "        if \"watch\" in URL:\n",
    "            if \"&t\" in URL:\n",
    "                vid_id, time = split_val[-2][:-2], int(split_val[-1][:-1])\n",
    "                _verify_vid_id_len(vid_id)\n",
    "                logger.info(f\"video starts at: {time}\")\n",
    "                return time\n",
    "            else:\n",
    "                vid_id, time = split_val[-1], 0\n",
    "                _verify_vid_id_len(vid_id)\n",
    "                logger.info(f\"video starts at: {time}\")\n",
    "                return time\n",
    "        else:\n",
    "            if \"=\" in URL and \"?t\" in URL:\n",
    "                vid_id, time = split_val[0].split(\"/\")[-1][:-2], int(split_val[-1])\n",
    "                _verify_vid_id_len(vid_id)\n",
    "                logger.info(f\"video starts at: {time}\")\n",
    "                return time\n",
    "            else:\n",
    "                vid_id, time = URL.split(\"/\")[-1], 0\n",
    "                _verify_vid_id_len(vid_id)\n",
    "                logger.info(f\"video starts at: {time}\")\n",
    "                return time\n",
    "    except Exception:\n",
    "        raise InvalidURLException"
   ]
  },
  {
   "cell_type": "code",
   "execution_count": null,
   "metadata": {},
   "outputs": [],
   "source": []
  }
 ],
 "metadata": {
  "kernelspec": {
   "display_name": "env",
   "language": "python",
   "name": "python3"
  },
  "language_info": {
   "codemirror_mode": {
    "name": "ipython",
    "version": 3
   },
   "file_extension": ".py",
   "mimetype": "text/x-python",
   "name": "python",
   "nbconvert_exporter": "python",
   "pygments_lexer": "ipython3",
   "version": "3.9.0"
  },
  "orig_nbformat": 4
 },
 "nbformat": 4,
 "nbformat_minor": 2
}
